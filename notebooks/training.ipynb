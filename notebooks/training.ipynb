{
 "cells": [
  {
   "cell_type": "code",
   "execution_count": 1,
   "metadata": {},
   "outputs": [],
   "source": [
    "import os\n",
    "import sys\n",
    "\n",
    "dir = os.path.abspath('')\n",
    "parent = os.path.dirname(dir)\n",
    "if not parent in sys.path:\n",
    "    sys.path.append(parent)\n"
   ]
  },
  {
   "cell_type": "code",
   "execution_count": 2,
   "metadata": {},
   "outputs": [],
   "source": [
    "import torch\n",
    "from torch import nn\n",
    "from torch.utils.data import DataLoader\n",
    "from torchvision.ops import box_iou\n",
    "from torchvision.transforms import Compose, Resize, ToTensor\n",
    "\n",
    "from data.custom_celeba import CelebA, xywh2xyxy\n",
    "from models.my_net import MyNet\n"
   ]
  },
  {
   "cell_type": "code",
   "execution_count": 2,
   "metadata": {},
   "outputs": [
    {
     "name": "stdout",
     "output_type": "stream",
     "text": [
      "Using device cuda\n"
     ]
    }
   ],
   "source": [
    "device = torch.device('cuda' if torch.cuda.is_available() else 'cpu')\n",
    "print(f'Using device {device}')\n"
   ]
  },
  {
   "cell_type": "code",
   "execution_count": 3,
   "metadata": {},
   "outputs": [],
   "source": [
    "transform = Compose([\n",
    "    ToTensor(),\n",
    "    Resize((256, 256))\n",
    "])\n",
    "\n",
    "target_transform = Compose([\n",
    "    xywh2xyxy,\n",
    "    torch.Tensor.float\n",
    "])\n",
    "\n",
    "training_data = CelebA(\n",
    "    root='CelebA',\n",
    "    split='train',\n",
    "    transform=transform,\n",
    "    target_transform=target_transform,\n",
    "    resize=True\n",
    ")\n",
    "\n",
    "test_data = CelebA(\n",
    "    root='CelebA',\n",
    "    split='test',\n",
    "    transform=transform,\n",
    "    target_transform=target_transform,\n",
    "    resize=True\n",
    ")\n"
   ]
  },
  {
   "cell_type": "code",
   "execution_count": 4,
   "metadata": {},
   "outputs": [],
   "source": [
    "batch_size = 64\n",
    "\n",
    "train_dataloader = DataLoader(training_data, batch_size=batch_size, shuffle=True, num_workers=6)\n",
    "test_dataloader = DataLoader(test_data, batch_size=batch_size, num_workers=6)\n"
   ]
  },
  {
   "cell_type": "code",
   "execution_count": 5,
   "metadata": {},
   "outputs": [],
   "source": [
    "model = MyNet().to(device)\n"
   ]
  },
  {
   "cell_type": "code",
   "execution_count": 6,
   "metadata": {},
   "outputs": [],
   "source": [
    "def train(dataloader, model, loss_fn, optimizer):\n",
    "    size = len(dataloader.dataset)\n",
    "    model.train()\n",
    "    for batch, (X, y) in enumerate(dataloader):\n",
    "        X, y = X.to(device), y.to(device)\n",
    "\n",
    "        pred = model(X)\n",
    "        loss = loss_fn(pred, y)\n",
    "\n",
    "        optimizer.zero_grad()\n",
    "        loss.backward()\n",
    "        optimizer.step()\n",
    "\n",
    "        if batch % 100 == 0:\n",
    "            loss, current = loss.item(), batch * dataloader.batch_size\n",
    "            print(f\"loss: {loss:>7f}  [{current:>5d}/{size:>5d}]\")\n",
    "\n",
    "\n",
    "def test(dataloader, model, loss_fn):\n",
    "    size = len(dataloader.dataset)\n",
    "    num_batches = len(dataloader)\n",
    "    model.eval()\n",
    "    test_loss, correct = 0, 0\n",
    "    with torch.no_grad():\n",
    "        for X, y in dataloader:\n",
    "            X, y = X.to(device), y.to(device)\n",
    "            pred = model(X)\n",
    "            test_loss += loss_fn(pred, y).item()\n",
    "            correct += (box_iou(pred, y).diagonal() > 0.5).sum().item()\n",
    "    test_loss /= num_batches\n",
    "    correct /= size\n",
    "\n",
    "    print(\n",
    "        f'Test Error: \\n Accuracy: {(100*correct):>0.1f}%, Avg loss: {test_loss:>8f} \\n')\n",
    "    \n",
    "    return correct\n"
   ]
  },
  {
   "cell_type": "code",
   "execution_count": 7,
   "metadata": {},
   "outputs": [
    {
     "name": "stdout",
     "output_type": "stream",
     "text": [
      "Epoch 1\n",
      "-------------------------------\n",
      "loss: 16346.705078  [    0/162770]\n",
      "loss: 15673.807617  [ 6400/162770]\n",
      "loss: 10718.539062  [12800/162770]\n",
      "loss: 4259.604492  [19200/162770]\n",
      "loss: 1204.190918  [25600/162770]\n",
      "loss: 335.938843  [32000/162770]\n",
      "loss: 261.414795  [38400/162770]\n",
      "loss: 177.720612  [44800/162770]\n",
      "loss: 174.067719  [51200/162770]\n",
      "loss: 178.799591  [57600/162770]\n",
      "loss: 176.509766  [64000/162770]\n",
      "loss: 180.869659  [70400/162770]\n",
      "loss: 166.697342  [76800/162770]\n",
      "loss: 159.362335  [83200/162770]\n",
      "loss: 118.141708  [89600/162770]\n",
      "loss: 121.368576  [96000/162770]\n",
      "loss: 100.765869  [102400/162770]\n",
      "loss: 110.407532  [108800/162770]\n",
      "loss: 88.792816  [115200/162770]\n",
      "loss: 118.641167  [121600/162770]\n",
      "loss: 75.856644  [128000/162770]\n",
      "loss: 61.609322  [134400/162770]\n",
      "loss: 80.497894  [140800/162770]\n",
      "loss: 90.502686  [147200/162770]\n",
      "loss: 55.683220  [153600/162770]\n",
      "loss: 73.807587  [160000/162770]\n",
      "Test Error: \n",
      " Accuracy: 96.3%, Avg loss: 96.491079 \n",
      "\n",
      "Saved PyTorch Model State to model.pth\n",
      "Epoch 2\n",
      "-------------------------------\n",
      "loss: 68.546936  [    0/162770]\n"
     ]
    },
    {
     "ename": "KeyboardInterrupt",
     "evalue": "",
     "output_type": "error",
     "traceback": [
      "\u001b[0;31m---------------------------------------------------------------------------\u001b[0m",
      "\u001b[0;31mKeyboardInterrupt\u001b[0m                         Traceback (most recent call last)",
      "\u001b[1;32m/home/anton/Projekt/project.ipynb Cell 7'\u001b[0m in \u001b[0;36m<cell line: 6>\u001b[0;34m()\u001b[0m\n\u001b[1;32m      <a href='vscode-notebook-cell://wsl%2Bubuntu/home/anton/Projekt/project.ipynb#ch0000006vscode-remote?line=5'>6</a>\u001b[0m \u001b[39mfor\u001b[39;00m epoch \u001b[39min\u001b[39;00m \u001b[39mrange\u001b[39m(\u001b[39m1\u001b[39m, epochs\u001b[39m+\u001b[39m\u001b[39m1\u001b[39m):\n\u001b[1;32m      <a href='vscode-notebook-cell://wsl%2Bubuntu/home/anton/Projekt/project.ipynb#ch0000006vscode-remote?line=6'>7</a>\u001b[0m     \u001b[39mprint\u001b[39m(\u001b[39mf\u001b[39m\u001b[39m'\u001b[39m\u001b[39mEpoch \u001b[39m\u001b[39m{\u001b[39;00mepoch\u001b[39m}\u001b[39;00m\u001b[39m\\n\u001b[39;00m\u001b[39m-------------------------------\u001b[39m\u001b[39m'\u001b[39m)\n\u001b[0;32m----> <a href='vscode-notebook-cell://wsl%2Bubuntu/home/anton/Projekt/project.ipynb#ch0000006vscode-remote?line=7'>8</a>\u001b[0m     train(train_dataloader, model, loss_fn, optimizer)\n\u001b[1;32m      <a href='vscode-notebook-cell://wsl%2Bubuntu/home/anton/Projekt/project.ipynb#ch0000006vscode-remote?line=8'>9</a>\u001b[0m     new_correct \u001b[39m=\u001b[39m test(test_dataloader, model, loss_fn)\n\u001b[1;32m     <a href='vscode-notebook-cell://wsl%2Bubuntu/home/anton/Projekt/project.ipynb#ch0000006vscode-remote?line=10'>11</a>\u001b[0m     \u001b[39mif\u001b[39;00m new_correct \u001b[39m>\u001b[39m correct:\n",
      "\u001b[1;32m/home/anton/Projekt/project.ipynb Cell 6'\u001b[0m in \u001b[0;36mtrain\u001b[0;34m(dataloader, model, loss_fn, optimizer)\u001b[0m\n\u001b[1;32m      <a href='vscode-notebook-cell://wsl%2Bubuntu/home/anton/Projekt/project.ipynb#ch0000005vscode-remote?line=2'>3</a>\u001b[0m model\u001b[39m.\u001b[39mtrain()\n\u001b[1;32m      <a href='vscode-notebook-cell://wsl%2Bubuntu/home/anton/Projekt/project.ipynb#ch0000005vscode-remote?line=3'>4</a>\u001b[0m \u001b[39mfor\u001b[39;00m batch, (X, y) \u001b[39min\u001b[39;00m \u001b[39menumerate\u001b[39m(dataloader):\n\u001b[0;32m----> <a href='vscode-notebook-cell://wsl%2Bubuntu/home/anton/Projekt/project.ipynb#ch0000005vscode-remote?line=4'>5</a>\u001b[0m     X, y \u001b[39m=\u001b[39m X\u001b[39m.\u001b[39;49mto(device), y\u001b[39m.\u001b[39mto(device)\n\u001b[1;32m      <a href='vscode-notebook-cell://wsl%2Bubuntu/home/anton/Projekt/project.ipynb#ch0000005vscode-remote?line=6'>7</a>\u001b[0m     pred \u001b[39m=\u001b[39m model(X)\n\u001b[1;32m      <a href='vscode-notebook-cell://wsl%2Bubuntu/home/anton/Projekt/project.ipynb#ch0000005vscode-remote?line=7'>8</a>\u001b[0m     loss \u001b[39m=\u001b[39m loss_fn(pred, y)\n",
      "\u001b[0;31mKeyboardInterrupt\u001b[0m: "
     ]
    }
   ],
   "source": [
    "epochs = 30\n",
    "loss_fn = nn.MSELoss()\n",
    "optimizer = torch.optim.Adam(model.parameters())\n",
    "\n",
    "correct = 0\n",
    "for epoch in range(1, epochs+1):\n",
    "    print(f'Epoch {epoch}\\n-------------------------------')\n",
    "    train(train_dataloader, model, loss_fn, optimizer)\n",
    "    new_correct = test(test_dataloader, model, loss_fn)\n",
    "\n",
    "    if new_correct > correct:\n",
    "        torch.save(model.state_dict(), 'model.pth')\n",
    "        print('Saved PyTorch Model State to model.pth')\n",
    "        correct = new_correct\n",
    "    else:\n",
    "        print('Accuracy decreased rolling back')\n",
    "        model.load_state_dict(torch.load('model.pth'))\n",
    "\n",
    "print('Done!')\n"
   ]
  }
 ],
 "metadata": {
  "interpreter": {
   "hash": "2eab0a731a7cc8d4d97dd28a1e1169d8791e47c478fcf1fc983b5c4c182cda62"
  },
  "kernelspec": {
   "display_name": "Python 3.10.4 ('cv2')",
   "language": "python",
   "name": "python3"
  },
  "language_info": {
   "codemirror_mode": {
    "name": "ipython",
    "version": 3
   },
   "file_extension": ".py",
   "mimetype": "text/x-python",
   "name": "python",
   "nbconvert_exporter": "python",
   "pygments_lexer": "ipython3",
   "version": "3.10.4"
  },
  "orig_nbformat": 4
 },
 "nbformat": 4,
 "nbformat_minor": 2
}
